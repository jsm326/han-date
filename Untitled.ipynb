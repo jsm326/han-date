{
 "cells": [
  {
   "cell_type": "markdown",
   "id": "23395139-113e-41fa-81b0-2ec4b9b72b08",
   "metadata": {},
   "source": [
    "## GroupBy\n",
    "- 데이터셋.groupby(컬럼명).집계함수\n",
    "  + 해당 컬럼은 범주 형태\n",
    "- 포인트 1. 데이터 형태가 바뀜\n",
    "- "
   ]
  },
  {
   "cell_type": "code",
   "execution_count": null,
   "id": "5f429f95-6a1c-4c75-adb6-38dc8b499275",
   "metadata": {},
   "outputs": [],
   "source": [
    "# 남자와 여자 누가 팀을 평균적으로 더 많이 줄까요?\n",
    "\n",
    "tips.groupby('sex')[]"
   ]
  }
 ],
 "metadata": {
  "kernelspec": {
   "display_name": "Python 3 (ipykernel)",
   "language": "python",
   "name": "python3"
  },
  "language_info": {
   "codemirror_mode": {
    "name": "ipython",
    "version": 3
   },
   "file_extension": ".py",
   "mimetype": "text/x-python",
   "name": "python",
   "nbconvert_exporter": "python",
   "pygments_lexer": "ipython3",
   "version": "3.11.7"
  }
 },
 "nbformat": 4,
 "nbformat_minor": 5
}
